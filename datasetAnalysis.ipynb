{
 "cells": [
  {
   "cell_type": "markdown",
   "metadata": {},
   "source": [
    "# Imports"
   ]
  },
  {
   "cell_type": "code",
   "execution_count": 2,
   "metadata": {},
   "outputs": [],
   "source": [
    "import pandas as pd\n",
    "import numpy as np\n",
    "# import sklearn"
   ]
  },
  {
   "cell_type": "markdown",
   "metadata": {},
   "source": [
    "# loading data"
   ]
  },
  {
   "cell_type": "code",
   "execution_count": 14,
   "metadata": {},
   "outputs": [],
   "source": [
    "datasetTrainPath = \"Dataset/train.csv\"\n",
    "trainDataset_pd = pd.read_csv(datasetTrainPath) # takes a while to read: around a minute\n",
    "\n",
    "assetDetailsPath =  \"Dataset/asset_details.csv\"\n",
    "assetDetails_pd = pd.read_csv(assetDetailsPath)\n"
   ]
  },
  {
   "cell_type": "markdown",
   "metadata": {},
   "source": [
    "Ideas for features: <br>\n",
    "- group by asset id in order to see if increasing or decrease after each timestamp (see with which variable to perform it)<br>\n",
    "- Count variabilty (in % rate) after each timestamp. Do it also with a binary variable to see if it increase or decreased (perform same thing with other features ) <br>\n",
    "- open and close variability (see it with high and low instead)\n",
    "\n",
    "\n",
    "to do: <br>\n",
    "- understand target and vwap<br>\n",
    "- remove nan / or see what to do with them in the features <br>\n",
    "- setup the ideas for the new features <b>\n",
    "- check distribution of features (?) for each asseID <br>\n",
    "- standarize variables ? given the fact that its a continuous increasing variables maybe it doesn't make sense <br>\n",
    "- should we normalize the weights in a 0-1 scale?\n"
   ]
  },
  {
   "cell_type": "markdown",
   "metadata": {},
   "source": [
    "check for time gaps for each crypto"
   ]
  },
  {
   "cell_type": "code",
   "execution_count": 64,
   "metadata": {},
   "outputs": [
    {
     "name": "stdout",
     "output_type": "stream",
     "text": [
      "the crypto Bitcoin Cash  is missing these timestamps \n",
      "\n",
      "the crypto Binance Coin  is missing these timestamps \n",
      "\n",
      "the crypto Bitcoin  is missing these timestamps \n",
      "\n",
      "the crypto EOS.IO  is missing these timestamps \n",
      "\n",
      "the crypto Ethereum Classic  is missing these timestamps \n",
      "\n",
      "the crypto Ethereum  is missing these timestamps \n",
      "\n",
      "the crypto Litecoin  is missing these timestamps \n",
      "\n",
      "the crypto Monero  is missing these timestamps \n",
      "\n",
      "the crypto TRON  is missing these timestamps \n",
      "\n",
      "the crypto Stellar  is missing these timestamps \n",
      "\n",
      "the crypto Cardano  is missing these timestamps \n",
      "\n",
      "the crypto IOTA  is missing these timestamps \n",
      "\n",
      "the crypto Maker  is missing these timestamps \n",
      "\n",
      "the crypto Dogecoin  is missing these timestamps \n",
      "\n"
     ]
    }
   ],
   "source": [
    "cryptosName = assetDetails_pd['Asset_Name']\n",
    "cryptosID = assetDetails_pd['Asset_ID']\n",
    "cryptos = { cryptosID[i] :cryptosName[i] for i in range(len(cryptosName)) }\n",
    "\n",
    "# # # check if there are any missing values in the timestamps for each crypto\n",
    "for id in cryptosID.values:\n",
    "\n",
    "    print(\"the crypto\", cryptos.get(id) ,\" is missing these timestamps \\n\")\n"
   ]
  },
  {
   "cell_type": "code",
   "execution_count": 7,
   "metadata": {},
   "outputs": [
    {
     "data": {
      "text/plain": [
       "timestamp         0\n",
       "Asset_ID          0\n",
       "Count             0\n",
       "Open              0\n",
       "High              0\n",
       "Low               0\n",
       "Close             0\n",
       "Volume            0\n",
       "VWAP              9\n",
       "Target       750338\n",
       "dtype: int64"
      ]
     },
     "execution_count": 7,
     "metadata": {},
     "output_type": "execute_result"
    }
   ],
   "source": [
    "trainDataset_pd.isna().sum()\n",
    "\n",
    "#there are 750 338 values of nan in the targe\n",
    "#there are 9 nan values in the vwap \n",
    "\n",
    "# trainDataset_pd.shape\n"
   ]
  },
  {
   "cell_type": "code",
   "execution_count": 10,
   "metadata": {},
   "outputs": [
    {
     "data": {
      "text/plain": [
       "0.9641699005900805"
      ]
     },
     "execution_count": 10,
     "metadata": {},
     "output_type": "execute_result"
    }
   ],
   "source": [
    "trainDataset_pd.Target.max()"
   ]
  }
 ],
 "metadata": {
  "interpreter": {
   "hash": "db8fffecbd5dad7084d11d5b1b8bcb3dd0218d8d728371c4b97cda67435d4937"
  },
  "kernelspec": {
   "display_name": "Python 3.9.4 64-bit ('venv': venv)",
   "language": "python",
   "name": "python3"
  },
  "language_info": {
   "codemirror_mode": {
    "name": "ipython",
    "version": 3
   },
   "file_extension": ".py",
   "mimetype": "text/x-python",
   "name": "python",
   "nbconvert_exporter": "python",
   "pygments_lexer": "ipython3",
   "version": "3.9.4"
  },
  "orig_nbformat": 4
 },
 "nbformat": 4,
 "nbformat_minor": 2
}
